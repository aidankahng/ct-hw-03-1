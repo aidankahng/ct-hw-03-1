{
 "cells": [
  {
   "cell_type": "markdown",
   "id": "6f002b65",
   "metadata": {},
   "source": [
    "### Exercise 1 - Write a Python class for an Animal that has a name and energy attributes. The animal class should also have methods for eat, sleep, and play that will take in an integer and increase/decrease the energy of the animal with a formatted print statement"
   ]
  },
  {
   "cell_type": "code",
   "execution_count": null,
   "id": "2a1a5bac",
   "metadata": {},
   "outputs": [],
   "source": [
    "# Example 1\n",
    "# buddy = Animal('Buddy', 10)\n",
    "# buddy.play(5) -> \"Buddy is playing for 5 minutes. His energy is now 5\"\n",
    "# buddy.sleep(10) -> \"Buddy is sleeping for 10 minutes. His energy is now 15\"\n",
    "\n",
    "class Animal:\n",
    "    def __init__(self, name, energy):\n",
    "        self.energy = energy\n",
    "        self.name = name.title()\n",
    "    def eat(self, amount = 10):\n",
    "        self.energy += amount\n",
    "        print(f\"{self.name} ate some delicious grub and restored {amount} energy.\\nTheir energy is now {self.energy}\")\n",
    "    def sleep(self, time=20):\n",
    "        self.energy += time // 2\n",
    "        print(f\"{self.name} went to sleep for {time} minutes. \\nTheir energy is now {self.energy}\")\n",
    "    def play(self, time=10):\n",
    "        if self.energy - time >= 0:\n",
    "            self.energy -= time\n",
    "            print(f\"{self.name} played vigorously for {time} minutes. \\nTheir energy is now {self.energy}\")\n",
    "        else:\n",
    "            print(f\"{self.name} doesn't have enough energy to play that long.\")\n",
    "\n",
    "            \n"
   ]
  },
  {
   "cell_type": "code",
   "execution_count": null,
   "id": "7ba20983",
   "metadata": {},
   "outputs": [],
   "source": [
    "# Testing the Animal Class\n",
    "chad = Animal('chad', 20)\n",
    "chad.play(8)\n",
    "chad.sleep(40)\n",
    "chad.eat(5)"
   ]
  },
  {
   "cell_type": "markdown",
   "id": "c9a99511",
   "metadata": {},
   "source": [
    "### Exercise 2 - Turn the shopping cart program into an object-oriented program"
   ]
  },
  {
   "cell_type": "code",
   "execution_count": null,
   "id": "ab52fa8a",
   "metadata": {},
   "outputs": [],
   "source": [
    "# Create a class called cart that retains items and has methods to add, remove, and show\n",
    "class Cart:\n",
    "    def __init__(self):\n",
    "        self.stuff = {}\n",
    "    def add(self, name, price, quantity):\n",
    "        if name in self.stuff:\n",
    "            print(f\"Adjusting price and quantity of {name}\")    \n",
    "        self.stuff[name] = {'price': price, 'quantity':quantity}\n",
    "    def remove(self, name):\n",
    "        if name in self.stuff:\n",
    "            self.stuff.pop(name, 'failed')\n",
    "            print(f\"{name} has been removed\")\n",
    "        else:\n",
    "            print(f\"{name} is already not in your cart\")\n",
    "    def show(self):\n",
    "        print(\"-\"*40)\n",
    "        print(f\"\\tHere is your cart:\")\n",
    "        for key in self.stuff:\n",
    "            print(f\"{self.stuff[key]['quantity']} x {key} at ${self.stuff[key]['price']:.2f} each\")\n",
    "        print(\"-\"*40)\n",
    "\n",
    "\n",
    "def main():\n",
    "    cart = Cart()\n",
    "    running = True\n",
    "    while running:\n",
    "        decision = input(\"Add/Remove/Show/Quit? \").lower()\n",
    "        if decision == 'quit':\n",
    "            running = False\n",
    "        elif decision == 'add':\n",
    "            item_name = input(\"What is the name of the item? \").lower()\n",
    "            item_price = float(input(\"What is the price of this item? \"))\n",
    "            item_quantity = int(input(\"How many would you like? \"))\n",
    "            cart.add(item_name, item_price, item_quantity)\n",
    "        elif decision == 'remove':\n",
    "            item_name = input(\"What would you like to remove? \").lower()\n",
    "            cart.remove(item_name)\n",
    "        elif decision == 'show':\n",
    "            cart.show()\n",
    "    cart.show()\n",
    "    print(f\"\\tThank you for shopping\")\n",
    "            \n",
    "main()\n"
   ]
  },
  {
   "cell_type": "code",
   "execution_count": null,
   "id": "ac6b9295",
   "metadata": {},
   "outputs": [],
   "source": []
  }
 ],
 "metadata": {
  "kernelspec": {
   "display_name": "Python 3 (ipykernel)",
   "language": "python",
   "name": "python3"
  },
  "language_info": {
   "codemirror_mode": {
    "name": "ipython",
    "version": 3
   },
   "file_extension": ".py",
   "mimetype": "text/x-python",
   "name": "python",
   "nbconvert_exporter": "python",
   "pygments_lexer": "ipython3",
   "version": "3.11.5"
  }
 },
 "nbformat": 4,
 "nbformat_minor": 5
}
